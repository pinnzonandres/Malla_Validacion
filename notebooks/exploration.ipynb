{
 "cells": [
  {
   "cell_type": "code",
   "execution_count": 179,
   "metadata": {},
   "outputs": [],
   "source": [
    "import json\n",
    "import requests\n",
    "import pandas as pd\n",
    "import numpy as np"
   ]
  },
  {
   "cell_type": "code",
   "execution_count": 35,
   "metadata": {},
   "outputs": [],
   "source": [
    "with open('..\\\\config\\\\token_EmprendimientoColectivo.json') as file:\n",
    "    data = json.load(file)"
   ]
  },
  {
   "cell_type": "code",
   "execution_count": 36,
   "metadata": {},
   "outputs": [],
   "source": [
    "class validacion:\n",
    "    def __init__(self, nombre_api:str, json_malla: bool, nombre_malla : str):\n",
    "        self.config = \"..\\\\config\\\\{}.json\".format(nombre_api) \n",
    "        self.bool_malla = bool\n",
    "        self.nombre_malla = nombre_malla\n",
    "        self.token = dict()\n",
    "        self.dataframe = pd.DataFrame\n",
    "        self.validacion = pd.DataFrame\n",
    "        \n",
    "    def get_token(self):\n",
    "        try: \n",
    "            with open(self.config) as file:\n",
    "                self.token = json.load(file) \n",
    "        except Exception as e:\n",
    "            print(e)  \n",
    "    \n",
    "    def get_dataframe(self):\n",
    "        self.get_token() \n",
    "        \n",
    "        try: \n",
    "            response = requests.get(self.token[\"url\"],\n",
    "                                    headers = self.token[\"headers\"])\n",
    "        except Exception as e:\n",
    "            print(\"Conexión Fallida\")\n",
    "            print(e)\n",
    "        \n",
    "        try:\n",
    "            self.dataframe = pd.json_normalize(response.json())\n",
    "        except Exception as e:\n",
    "            print('No se cargo correctamente como dataframe la información del API')\n",
    "            print(e)\n",
    "        "
   ]
  },
  {
   "cell_type": "code",
   "execution_count": 37,
   "metadata": {},
   "outputs": [],
   "source": [
    "malla = validacion('token_EmprendimientoColectivo', True, 'malla')"
   ]
  },
  {
   "cell_type": "code",
   "execution_count": 157,
   "metadata": {},
   "outputs": [],
   "source": [
    "ruta_malla = r\"C:\\Users\\andre\\OneDrive\\Escritorio\\DIP\\001_MALLA_VALIDACIÓN\\formato_validaciones\\Malla_Emprendimiento_Colectivo.xlsx\""
   ]
  },
  {
   "cell_type": "code",
   "execution_count": 158,
   "metadata": {},
   "outputs": [],
   "source": [
    "cond = pd.read_excel(ruta_malla, sheet_name='Validaciones')\n",
    "val = pd.read_excel(ruta_malla, sheet_name='Valores')\n",
    "val = val.dropna(subset=['Tipo Validacion'])"
   ]
  },
  {
   "cell_type": "code",
   "execution_count": 160,
   "metadata": {},
   "outputs": [],
   "source": [
    "def get_list_condiciones(row):\n",
    "    A = str(row['Condicion'])\n",
    "    B = row['Tipo Validacion']\n",
    "    if A =='nan':\n",
    "        val = None\n",
    "    else:\n",
    "        if B == 'int':\n",
    "            val = [int(i) for i in A.split(\"|\")]\n",
    "        else:\n",
    "            val = [str(i) for i in A.split(\"|\")]\n",
    "    return val\n",
    "\n",
    "def get_list_valores(row):\n",
    "    A = str(row['Valores'])\n",
    "    B = row['Tipo Validacion']\n",
    "    if A =='nan':\n",
    "        val = None\n",
    "    else:\n",
    "        if B == 'int':\n",
    "            val = [int(i) for i in A.split(\"|\")]\n",
    "        elif B == 'str':\n",
    "            val = [str(i) for i in A.split(\"|\")]\n",
    "        else:\n",
    "            val = A\n",
    "    return val"
   ]
  },
  {
   "cell_type": "code",
   "execution_count": 161,
   "metadata": {},
   "outputs": [],
   "source": [
    "def create_malla_dict(condiciones, valores):\n",
    "    malla = dict()\n",
    "    condiciones['Condicion'] = condiciones.apply(get_list_condiciones, axis = 1)\n",
    "    valores['Valores'] = valores.apply(get_list_valores, axis = 1)\n",
    "    try:\n",
    "        result = condiciones.merge(valores, on = 'Variable', how = 'left')\n",
    "    except Exception as e:\n",
    "        print('Problemas con el archivo Excel de Malla de Validación')\n",
    "        print(e)\n",
    "        \n",
    "    for index, row in result.iterrows():\n",
    "        variable = row['Variable']\n",
    "        dependiente = row['Dependiente']\n",
    "        condicion = row['Condicion']\n",
    "        excluye = row['Excluye Participar']\n",
    "        obligatoria = row['Obligatorio']\n",
    "        iand = row['iand']\n",
    "        valor = row['Valores']\n",
    "        condicion_valor = row['Tipo Validacion_y']\n",
    "        \n",
    "        if variable in malla.keys():\n",
    "            malla[variable]['condicion'].update({dependiente : condicion})\n",
    "        else:\n",
    "            malla[variable] = {\n",
    "                'condicion': None if pd.isna(dependiente) else {dependiente : condicion},\n",
    "                'valores': None if pd.isna(condicion_valor) else {'valor':valor, 'Tipo': condicion_valor},\n",
    "                'iand': False if pd.isna(iand) else True,\n",
    "                'obligatoria': False if pd.isna(obligatoria) else True,\n",
    "                'excluida_PTA': False if pd.isna(excluye) else True\n",
    "                }\n",
    "    return malla\n",
    "        "
   ]
  },
  {
   "cell_type": "code",
   "execution_count": 162,
   "metadata": {},
   "outputs": [],
   "source": [
    "malla = create_malla_dict(cond, val)"
   ]
  },
  {
   "cell_type": "code",
   "execution_count": 163,
   "metadata": {},
   "outputs": [
    {
     "data": {
      "text/plain": [
       "{'condicion': {'ACTIVOS_PROYECTO.Predio o parcela.Seleccione': ['SI']},\n",
       " 'valores': {'valor': ['Bueno', 'Regular', 'Malo'], 'Tipo': 'str'},\n",
       " 'iand': False,\n",
       " 'obligatoria': False,\n",
       " 'excluida_PTA': True}"
      ]
     },
     "execution_count": 163,
     "metadata": {},
     "output_type": "execute_result"
    }
   ],
   "source": [
    "malla['ACTIVOS_PROYECTO.Predio o parcela.Estado']"
   ]
  },
  {
   "cell_type": "code",
   "execution_count": 181,
   "metadata": {},
   "outputs": [],
   "source": [
    "def crear_condicion(diccionario, data, iand = False, general = False):\n",
    "    condicion_total = None\n",
    "    \n",
    "    filter1 = data['DESEAPARTICIPAR'] == 'SI'\n",
    "    filter2 = data['HOGAR_DISPONE_TIERRA'] == True\n",
    "    filter3 = data['HOGAR_DISPONE_AGUA'] == True\n",
    "    condicion_general = (filter1) & (filter2) & (filter3)\n",
    "    \n",
    "    if diccionario is None:\n",
    "        if general:\n",
    "            return condicion_general\n",
    "        else:\n",
    "            return None\n",
    "    else:\n",
    "        for col, valores in diccionario.items():\n",
    "            if 'Edad' in col:\n",
    "                condicion_col = data[col] > valores[0]\n",
    "            else: \n",
    "                condicion_col = data[col].isin(valores)\n",
    "            if condicion_total is None:\n",
    "                condicion_total = condicion_col\n",
    "            else:\n",
    "                if iand:\n",
    "                    condicion_total = condicion_total & condicion_col\n",
    "                else:\n",
    "                    condicion_total = condicion_total | condicion_col\n",
    "            if general:\n",
    "                return condicion_total & condicion_general\n",
    "            else:\n",
    "                return condicion_total"
   ]
  },
  {
   "cell_type": "code",
   "execution_count": 182,
   "metadata": {},
   "outputs": [],
   "source": [
    "def todos_en_valores_permitidos(row, lista, col):\n",
    "    return all(valor in lista for valor in row[col])"
   ]
  },
  {
   "cell_type": "code",
   "execution_count": 183,
   "metadata": {},
   "outputs": [],
   "source": [
    "def verificar_valores(diccionario, data, col):\n",
    "    if diccionario is None:\n",
    "        return None\n",
    "    else:\n",
    "        valores = diccionario['valor']\n",
    "        tipo = diccionario['Tipo']\n",
    "        if tipo == 'regex':\n",
    "            condicion = data[col].astype(str).str.match(valores)\n",
    "        elif tipo == 'list':\n",
    "            data[col].apply(todos_en_valores_permitidos, args = (valores, col), axis = 1)\n",
    "        else:\n",
    "            condicion = data[col].isin(valores)\n",
    "    return condicion"
   ]
  },
  {
   "cell_type": "code",
   "execution_count": 184,
   "metadata": {},
   "outputs": [],
   "source": [
    "def validar_valor(condicion, values, col, data, file):\n",
    "    file[col] = 0\n",
    "    if condicion is None:\n",
    "        val_data = data\n",
    "    else:\n",
    "        val_data = data[condicion]\n",
    "    \n",
    "    if values is None:\n",
    "        val_series = val_data[col].isnull().astype(int)\n",
    "    else:\n",
    "        val_series = val_data.where(values)[col].isnull().astype(int)\n",
    "        \n",
    "    file[col].update(val_series)\n",
    "    \n",
    "    return file[col]"
   ]
  },
  {
   "cell_type": "code",
   "execution_count": 185,
   "metadata": {},
   "outputs": [],
   "source": [
    "def restore_type(data: pd.DataFrame, numeric: list or tuple):\n",
    "    num_cols = list(set(list(data.select_dtypes(include=np.number).columns))|set(numeric))\n",
    "    for col in num_cols:\n",
    "        if col not in ['latitud', 'longitud']:\n",
    "            try:\n",
    "                data[col]= data[col].astype('float').astype('Int64')\n",
    "            except:\n",
    "                data[col] = np.floor(pd.to_numeric(data[col], errors='coerce')).astype('Int64')\n",
    "    return data"
   ]
  },
  {
   "cell_type": "code",
   "execution_count": 189,
   "metadata": {},
   "outputs": [],
   "source": [
    "def malla_validacion(data: pd.DataFrame, guia_validacion : dict) -> pd.DataFrame:\n",
    "    try:\n",
    "        numeric = [m for m in [i for i in guia_validacion.keys() if guia_validacion[i]['valores'] is not None] if guia_validacion[m]['valores']['Tipo'] == 'int']\n",
    "    except Exception as e:\n",
    "        print('Problemas con la malla de validación entregada')\n",
    "        print(e)\n",
    "    data = restore_type(data, numeric)\n",
    "    columnas = [i for i in data.columns if i in guia_validacion.keys()]\n",
    "    data = data[columnas]\n",
    "    store_file = data.copy()\n",
    "    \n",
    "    for col in columnas:\n",
    "        condicion = crear_condicion(guia_validacion[col]['condicion'], data, guia_validacion[col]['iand'], guia_validacion[col]['excluida_PTA'])\n",
    "        values = verificar_valores(guia_validacion[col]['valores'], data, col)\n",
    "        store_file[col] = validar_valor(condicion = condicion, values = values, col = col, data = data, file = store_file)\n",
    "        \n",
    "    obligatorias = [i for i in guia_validacion.keys() if guia_validacion[i]['obligatoria']== True]\n",
    "    \n",
    "    store_file['Documento_Duplicado'] = data['num_documento'].duplicated().astype(int)\n",
    "    id_hogar = data['id']\n",
    "    num_doc_representante = data['NUMERODOCUMENTOTITULAR']\n",
    "    num_doc_integrante = data['num_documento']\n",
    "    store_file.insert(0, 'ID_HOGAR', id_hogar)\n",
    "    store_file.insert(1,'NUM_TITULAR', num_doc_representante)\n",
    "    store_file.insert(2,'NUM_DOC_INTEGRANTE', num_doc_integrante)\n",
    "    \n",
    "    obligatorias.append(['Documento Duplicado'])\n",
    "    \n",
    "    store_file['Validacion'] = data[obligatorias].sum(axis = 1)\n",
    "    \n",
    "    return store_file"
   ]
  },
  {
   "cell_type": "code",
   "execution_count": null,
   "metadata": {},
   "outputs": [],
   "source": []
  }
 ],
 "metadata": {
  "kernelspec": {
   "display_name": "venv",
   "language": "python",
   "name": "python3"
  },
  "language_info": {
   "codemirror_mode": {
    "name": "ipython",
    "version": 3
   },
   "file_extension": ".py",
   "mimetype": "text/x-python",
   "name": "python",
   "nbconvert_exporter": "python",
   "pygments_lexer": "ipython3",
   "version": "3.10.6"
  }
 },
 "nbformat": 4,
 "nbformat_minor": 2
}
